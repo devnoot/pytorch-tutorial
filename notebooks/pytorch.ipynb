{
 "cells": [
  {
   "attachments": {},
   "cell_type": "markdown",
   "metadata": {},
   "source": [
    "## What is PyTorch?"
   ]
  },
  {
   "attachments": {},
   "cell_type": "markdown",
   "metadata": {},
   "source": [
    "### Machine learning framework\n",
    "\n",
    "* Deep learning primitives\n",
    "* NN layer types\n",
    "* Activation & Loss functions\n",
    "* Optimizers"
   ]
  },
  {
   "attachments": {},
   "cell_type": "markdown",
   "metadata": {},
   "source": [
    "### Research prototyping\n",
    "\n",
    "* Models are Python\n",
    "* Autograd and \"eager mode\""
   ]
  },
  {
   "attachments": {},
   "cell_type": "markdown",
   "metadata": {},
   "source": [
    "### Production deployment\n",
    "\n",
    "* TorchScript\n",
    "* TorchServe\n",
    "* quantization"
   ]
  },
  {
   "attachments": {},
   "cell_type": "markdown",
   "metadata": {},
   "source": [
    "### Tensors\n",
    "\n",
    "* Tensors can be thought of as multi-dimensional array data structures on crack.\n",
    "* Computation of tensors happens in compiled C++ code!"
   ]
  },
  {
   "cell_type": "markdown",
   "metadata": {},
   "source": [
    "\n",
    "**PyTorch is Open Source**\n"
   ]
  },
  {
   "attachments": {},
   "cell_type": "markdown",
   "metadata": {},
   "source": [
    "## Tensors"
   ]
  },
  {
   "cell_type": "code",
   "execution_count": 63,
   "metadata": {},
   "outputs": [],
   "source": [
    "# import the pytorch library\n",
    "import torch"
   ]
  },
  {
   "attachments": {},
   "cell_type": "markdown",
   "metadata": {},
   "source": [
    "### Creating Tensors"
   ]
  },
  {
   "cell_type": "code",
   "execution_count": 64,
   "metadata": {},
   "outputs": [
    {
     "name": "stdout",
     "output_type": "stream",
     "text": [
      "tensor([[0., 0., 0.],\n",
      "        [0., 0., 0.],\n",
      "        [0., 0., 0.],\n",
      "        [0., 0., 0.],\n",
      "        [0., 0., 0.]])\n",
      "torch.float32\n"
     ]
    }
   ],
   "source": [
    "# Create a 5x3 tensor, and fill it with zeros\n",
    "x = torch.zeros(5, 3)\n",
    "print(x)\n",
    "print(x.dtype)"
   ]
  },
  {
   "cell_type": "code",
   "execution_count": 65,
   "metadata": {},
   "outputs": [
    {
     "name": "stdout",
     "output_type": "stream",
     "text": [
      "tensor([[1, 1, 1],\n",
      "        [1, 1, 1],\n",
      "        [1, 1, 1],\n",
      "        [1, 1, 1],\n",
      "        [1, 1, 1]], dtype=torch.int16)\n"
     ]
    }
   ],
   "source": [
    "# Create a 5x3 tensor, fill it with ones, and specify the type as int\n",
    "x = torch.ones(5, 3, dtype=torch.int16)\n",
    "print(x)"
   ]
  },
  {
   "attachments": {},
   "cell_type": "markdown",
   "metadata": {},
   "source": [
    "### Seeding"
   ]
  },
  {
   "cell_type": "code",
   "execution_count": 66,
   "metadata": {},
   "outputs": [],
   "source": [
    "# Initialize learning weights randomly while providing the seed. It's normal to manually provide the seed while initializing the learning weights.\n",
    "torch.manual_seed(1337)\n",
    "t1 = torch.rand(5, 3)\n",
    "\n",
    "torch.manual_seed(666)\n",
    "t2 = torch.rand(5, 3)"
   ]
  },
  {
   "cell_type": "code",
   "execution_count": 67,
   "metadata": {},
   "outputs": [
    {
     "name": "stdout",
     "output_type": "stream",
     "text": [
      "t1 \n",
      " tensor([[0.0783, 0.4956, 0.6231],\n",
      "        [0.4224, 0.2004, 0.0287],\n",
      "        [0.5851, 0.6967, 0.1761],\n",
      "        [0.2595, 0.7086, 0.5809],\n",
      "        [0.0574, 0.7669, 0.8778]])\n",
      "t2 \n",
      " tensor([[0.3119, 0.2701, 0.1118],\n",
      "        [0.1012, 0.1877, 0.0181],\n",
      "        [0.3317, 0.0846, 0.5732],\n",
      "        [0.0079, 0.2520, 0.5518],\n",
      "        [0.8785, 0.5281, 0.4961]])\n"
     ]
    }
   ],
   "source": [
    "print(f't1 \\n {t1}')\n",
    "print(f't2 \\n {t2}')"
   ]
  },
  {
   "attachments": {},
   "cell_type": "markdown",
   "metadata": {},
   "source": [
    "### Tensor Operations"
   ]
  },
  {
   "cell_type": "code",
   "execution_count": 68,
   "metadata": {},
   "outputs": [
    {
     "name": "stdout",
     "output_type": "stream",
     "text": [
      "t1 + t2 \n",
      "tensor([[0.3902, 0.7658, 0.7349],\n",
      "        [0.5236, 0.3881, 0.0467],\n",
      "        [0.9168, 0.7813, 0.7494],\n",
      "        [0.2674, 0.9606, 1.1327],\n",
      "        [0.9358, 1.2950, 1.3739]])\n",
      "t1 - t2 \n",
      "tensor([[-0.2336,  0.2255,  0.5113],\n",
      "        [ 0.3212,  0.0127,  0.0106],\n",
      "        [ 0.2535,  0.6121, -0.3971],\n",
      "        [ 0.2516,  0.4565,  0.0292],\n",
      "        [-0.8211,  0.2387,  0.3818]])\n",
      "t1 * t2 \n",
      "tensor([[0.0244, 0.1339, 0.0697],\n",
      "        [0.0427, 0.0376, 0.0005],\n",
      "        [0.1941, 0.0590, 0.1010],\n",
      "        [0.0021, 0.1786, 0.3205],\n",
      "        [0.0504, 0.4050, 0.4355]])\n",
      "t1 / t2 \n",
      "tensor([[ 0.2511,  1.8347,  5.5743],\n",
      "        [ 4.1747,  1.0678,  1.5857],\n",
      "        [ 1.7642,  8.2331,  0.3073],\n",
      "        [32.8512,  2.8115,  1.0529],\n",
      "        [ 0.0653,  1.4520,  1.7696]])\n"
     ]
    }
   ],
   "source": [
    "# Print out operations between two tensors\n",
    "print(f't1 + t2 \\n{t1 + t2}')\n",
    "print(f't1 - t2 \\n{t1 - t2}')\n",
    "print(f't1 * t2 \\n{t1 * t2}')\n",
    "print(f't1 / t2 \\n{t1 / t2}')"
   ]
  },
  {
   "cell_type": "code",
   "execution_count": 69,
   "metadata": {},
   "outputs": [
    {
     "name": "stdout",
     "output_type": "stream",
     "text": [
      "tensor([[0.8054, 0.1990, 0.9759, 0.1028, 0.3475, 0.1554, 0.8856],\n",
      "        [0.6876, 0.2506, 0.1133, 0.2105, 0.4035, 0.2448, 0.8644],\n",
      "        [0.2896, 0.1729, 0.3458, 0.0117, 0.2572, 0.2272, 0.6076],\n",
      "        [0.9066, 0.5540, 0.2086, 0.7058, 0.2871, 0.2633, 0.4042],\n",
      "        [0.2391, 0.5550, 0.9059, 0.5682, 0.8020, 0.0656, 0.1067],\n",
      "        [0.4335, 0.5005, 0.8121, 0.0603, 0.7086, 0.0708, 0.5807],\n",
      "        [0.8304, 0.5690, 0.6596, 0.8179, 0.9947, 0.1862, 0.6638]])\n"
     ]
    }
   ],
   "source": [
    "# Create a third tensor of a different size than the others\n",
    "torch.manual_seed(420)\n",
    "t3 = torch.rand(7, 7)\n",
    "print(t3)"
   ]
  },
  {
   "cell_type": "code",
   "execution_count": 70,
   "metadata": {},
   "outputs": [
    {
     "ename": "RuntimeError",
     "evalue": "The size of tensor a (3) must match the size of tensor b (7) at non-singleton dimension 1",
     "output_type": "error",
     "traceback": [
      "\u001b[0;31m---------------------------------------------------------------------------\u001b[0m",
      "\u001b[0;31mRuntimeError\u001b[0m                              Traceback (most recent call last)",
      "Cell \u001b[0;32mIn[70], line 2\u001b[0m\n\u001b[1;32m      1\u001b[0m \u001b[39m# This won't work because the sizes are different\u001b[39;00m\n\u001b[0;32m----> 2\u001b[0m \u001b[39mprint\u001b[39m(\u001b[39mf\u001b[39m\u001b[39m'\u001b[39m\u001b[39mt1 + t3 \u001b[39m\u001b[39m\\n\u001b[39;00m\u001b[39m \u001b[39m\u001b[39m{\u001b[39;00mt1 \u001b[39m+\u001b[39;49m t3\u001b[39m}\u001b[39;00m\u001b[39m'\u001b[39m)\n",
      "\u001b[0;31mRuntimeError\u001b[0m: The size of tensor a (3) must match the size of tensor b (7) at non-singleton dimension 1"
     ]
    }
   ],
   "source": [
    "# This won't work because the sizes are different\n",
    "print(f't1 + t3 \\n {t1 + t3}')"
   ]
  },
  {
   "cell_type": "code",
   "execution_count": null,
   "metadata": {},
   "outputs": [
    {
     "name": "stdout",
     "output_type": "stream",
     "text": [
      "tensor([[1., 1., 1.],\n",
      "        [1., 1., 1.]])\n",
      "tensor([[2., 2., 2.],\n",
      "        [2., 2., 2.]])\n",
      "tensor([[3., 3., 3.],\n",
      "        [3., 3., 3.]])\n",
      "tensor([[4., 4., 4.],\n",
      "        [4., 4., 4.]])\n",
      "torch.Size([2, 3])\n"
     ]
    }
   ],
   "source": [
    "ones = torch.ones(2, 3)\n",
    "print(ones)\n",
    "\n",
    "twos = torch.ones(2, 3) * 2\n",
    "print(twos)\n",
    "\n",
    "threes = torch.ones(2, 3) * 3\n",
    "print(threes)\n",
    "\n",
    "fours = threes + 1\n",
    "print(fours)\n",
    "print(fours.shape)"
   ]
  },
  {
   "cell_type": "code",
   "execution_count": null,
   "metadata": {},
   "outputs": [
    {
     "name": "stdout",
     "output_type": "stream",
     "text": [
      "r\n",
      "tensor([[ 0.2681, -0.9185],\n",
      "        [-0.1245,  0.2122]])\n",
      "Absolute value of r\n",
      "tensor([[0.2681, 0.9185],\n",
      "        [0.1245, 0.2122]])\n",
      "Inverse sine (asin) of r\n",
      "tensor([[ 0.2714, -1.1642],\n",
      "        [-0.1248,  0.2138]])\n",
      "Determinant of r\n",
      "tensor(-0.0574)\n",
      "Singular value decomposition of r\n",
      "torch.return_types.svd(\n",
      "U=tensor([[-0.9701,  0.2428],\n",
      "        [ 0.2428,  0.9701]]),\n",
      "S=tensor([0.9862, 0.0582]),\n",
      "V=tensor([[-0.2944, -0.9557],\n",
      "        [ 0.9557, -0.2944]]))\n",
      "Average and standard deviation of r\n",
      "(tensor(0.5468), tensor(-0.1407))\n",
      "Max value of r\n",
      "tensor(0.2681)\n"
     ]
    }
   ],
   "source": [
    "# Here are some of the other math operations available \n",
    "\n",
    "# create a random matrix with values (-1, 1)\n",
    "r = (torch.rand(2, 2) - 0.5) * 2\n",
    "print('r')\n",
    "print(r)\n"
   ]
  },
  {
   "attachments": {},
   "cell_type": "markdown",
   "metadata": {},
   "source": [
    "#### Absolute Value"
   ]
  },
  {
   "cell_type": "code",
   "execution_count": null,
   "metadata": {},
   "outputs": [
    {
     "name": "stdout",
     "output_type": "stream",
     "text": [
      "tensor([[0.2681, 0.9185],\n",
      "        [0.1245, 0.2122]])\n"
     ]
    }
   ],
   "source": [
    "print(torch.abs(r))"
   ]
  },
  {
   "attachments": {},
   "cell_type": "markdown",
   "metadata": {},
   "source": [
    "#### Inverse Sine (asin)"
   ]
  },
  {
   "cell_type": "code",
   "execution_count": null,
   "metadata": {},
   "outputs": [],
   "source": [
    "\n",
    "print('Inverse sine (asin) of r')\n",
    "print(torch.asin(r))\n"
   ]
  },
  {
   "attachments": {},
   "cell_type": "markdown",
   "metadata": {},
   "source": [
    "#### Determinant"
   ]
  },
  {
   "cell_type": "code",
   "execution_count": null,
   "metadata": {},
   "outputs": [],
   "source": [
    "\n",
    "print('Determinant of r')\n",
    "print(torch.det(r))\n"
   ]
  },
  {
   "attachments": {},
   "cell_type": "markdown",
   "metadata": {},
   "source": [
    "#### Singular value decomposition (svd)"
   ]
  },
  {
   "cell_type": "code",
   "execution_count": null,
   "metadata": {},
   "outputs": [],
   "source": [
    "\n",
    "print('Singular value decomposition of r')\n",
    "print(torch.svd(r))\n"
   ]
  },
  {
   "attachments": {},
   "cell_type": "markdown",
   "metadata": {},
   "source": [
    "#### Average and standard deviation"
   ]
  },
  {
   "cell_type": "code",
   "execution_count": null,
   "metadata": {},
   "outputs": [],
   "source": [
    "\n",
    "print('Average and standard deviation of r')\n",
    "print(torch.std_mean(r))\n"
   ]
  },
  {
   "attachments": {},
   "cell_type": "markdown",
   "metadata": {},
   "source": [
    "#### Max value"
   ]
  },
  {
   "cell_type": "code",
   "execution_count": null,
   "metadata": {},
   "outputs": [],
   "source": [
    "\n",
    "print('Max value of r')\n",
    "print(torch.max(r))"
   ]
  },
  {
   "attachments": {},
   "cell_type": "markdown",
   "metadata": {},
   "source": [
    "See [the official documentation](https://pytorch.org/docs/stable/torch.html) for a complete list of `torch` methods"
   ]
  },
  {
   "attachments": {},
   "cell_type": "markdown",
   "metadata": {},
   "source": [
    "### Models"
   ]
  },
  {
   "cell_type": "code",
   "execution_count": null,
   "metadata": {},
   "outputs": [],
   "source": [
    "import torch                        # for all things pytorch\n",
    "import torch.nn as nn               # for torch.nn.Module, the parent object for PyTorch models \n",
    "import torch.nn.functional as F     # for the activation function"
   ]
  },
  {
   "attachments": {},
   "cell_type": "markdown",
   "metadata": {},
   "source": [
    "## LeNet-5\n",
    "\n",
    "LeNet-5 Is one of the earliest convolutional neural nets. It was build to read small images (32x32) of handwritten numbers, and correctly classify which digit was represented in the image.\n",
    "\n",
    "![An image of a neural networkle-net-5 diagram](images/mnist.png \"Figure: LeNet-5\")\n",
    "\n",
    "* Layer C1 is a convolutional layer, meaning that it scans the input image for features it learned during training. It outputs a map of where it saw each of its learned features in the image. This “activation map” is downsampled in layer S2.\n",
    "\n",
    "* Layer C3 is another convolutional layer, this time scanning C1’s activation map for combinations of features. It also puts out an activation map describing the spatial locations of these feature combinations, which is downsampled in layer S4.\n",
    "\n",
    "* Finally, the fully-connected layers at the end, F5, F6, and OUTPUT, are a classifier that takes the final activation map, and classifies it into one of ten bins representing the 10 digits."
   ]
  },
  {
   "attachments": {},
   "cell_type": "markdown",
   "metadata": {},
   "source": [
    "### LeNet-5 Class\n",
    "\n",
    "This is how we can express LeNet in code"
   ]
  },
  {
   "cell_type": "code",
   "execution_count": null,
   "metadata": {},
   "outputs": [],
   "source": [
    "class LeNet(nn.Module):      # extend this class from nn.Module\n",
    "\n",
    "    def __init_(self):\n",
    "        # 1 input image channel (black & white), 6 output channels, 3x3 square convolution\n",
    "        self.conv1 = nn.Conv2d(1, 6, 3)\n",
    "        self.conv2 = nn.Conv2d(6, 16, 3)\n",
    "        self.fc1 = nn.Linear(16 * 6 * 6, 120)\n",
    "        self.fc2 = nn.Linear(120, 84)\n",
    "        self.fc3 = nn.Linear(84, 10)\n",
    "\n",
    "    def forward(self, x):\n",
    "        x = F.max_pool2d(F.relu(self.conv1(x)), (2, 2))\n",
    "        x = F.max_pool2d(F.relu(self.conv2(x)), 2)\n",
    "        x = x.view(-1, self.num_flat_features(x))\n",
    "        x = F.relu(self.fc1(x))\n",
    "        x = F.relu(self.fc2(x))\n",
    "        x = self.f3(x)\n",
    "        return x\n",
    "\n",
    "    def num_flat_features(self, x):\n",
    "        size = x.size()[1:]     # all dimensions except the batch dimension\n",
    "        num_features = 1\n",
    "        for s in size:\n",
    "            num_features *= s\n",
    "        return num_features\n"
   ]
  },
  {
   "cell_type": "code",
   "execution_count": null,
   "metadata": {},
   "outputs": [],
   "source": []
  }
 ],
 "metadata": {
  "kernelspec": {
   "display_name": "Python 3",
   "language": "python",
   "name": "python3"
  },
  "language_info": {
   "codemirror_mode": {
    "name": "ipython",
    "version": 3
   },
   "file_extension": ".py",
   "mimetype": "text/x-python",
   "name": "python",
   "nbconvert_exporter": "python",
   "pygments_lexer": "ipython3",
   "version": "3.10.7"
  },
  "orig_nbformat": 4,
  "vscode": {
   "interpreter": {
    "hash": "31f2aee4e71d21fbe5cf8b01ff0e069b9275f58929596ceb00d14d90e3e16cd6"
   }
  }
 },
 "nbformat": 4,
 "nbformat_minor": 2
}
